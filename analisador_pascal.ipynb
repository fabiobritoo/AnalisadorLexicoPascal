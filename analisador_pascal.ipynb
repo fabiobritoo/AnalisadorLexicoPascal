{
 "cells": [
  {
   "cell_type": "code",
   "execution_count": 1,
   "metadata": {},
   "outputs": [],
   "source": [
    "import pandas as pd\n",
    "import re"
   ]
  },
  {
   "cell_type": "code",
   "execution_count": 2,
   "metadata": {},
   "outputs": [],
   "source": [
    "from tabulate import tabulate"
   ]
  },
  {
   "cell_type": "markdown",
   "metadata": {},
   "source": [
    "## Codigo de Entrada"
   ]
  },
  {
   "cell_type": "code",
   "execution_count": 3,
   "metadata": {},
   "outputs": [],
   "source": [
    "nome_arquivo = \"input.p\"\n",
    "try:\n",
    "    codigo_entrada = open(\"lib/input/\" + nome_arquivo, \"r\", encoding=\"utf8\").read()\n",
    "except:\n",
    "    codigo_entrada = \"\"\"begin end if ; : :=\n",
    "while for then 20 5.5 x1 a program\"\"\""
   ]
  },
  {
   "cell_type": "code",
   "execution_count": 4,
   "metadata": {},
   "outputs": [
    {
     "name": "stdout",
     "output_type": "stream",
     "text": [
      "begin end if ; : :=\n",
      "while for then 20 5.5 x1 a program\n"
     ]
    }
   ],
   "source": [
    "print(codigo_entrada)"
   ]
  },
  {
   "cell_type": "markdown",
   "metadata": {},
   "source": [
    "## Definição de DataFrame resultante"
   ]
  },
  {
   "cell_type": "code",
   "execution_count": 79,
   "metadata": {},
   "outputs": [
    {
     "data": {
      "text/html": [
       "<div>\n",
       "<style scoped>\n",
       "    .dataframe tbody tr th:only-of-type {\n",
       "        vertical-align: middle;\n",
       "    }\n",
       "\n",
       "    .dataframe tbody tr th {\n",
       "        vertical-align: top;\n",
       "    }\n",
       "\n",
       "    .dataframe thead th {\n",
       "        text-align: right;\n",
       "    }\n",
       "</style>\n",
       "<table border=\"1\" class=\"dataframe\">\n",
       "  <thead>\n",
       "    <tr style=\"text-align: right;\">\n",
       "      <th></th>\n",
       "      <th>Tipo</th>\n",
       "      <th>Palavra</th>\n",
       "      <th>Linha</th>\n",
       "      <th>Posicao_Inicio</th>\n",
       "      <th>Posicao_Fim</th>\n",
       "    </tr>\n",
       "  </thead>\n",
       "  <tbody>\n",
       "  </tbody>\n",
       "</table>\n",
       "</div>"
      ],
      "text/plain": [
       "Empty DataFrame\n",
       "Columns: [Tipo, Palavra, Linha, Posicao_Inicio, Posicao_Fim]\n",
       "Index: []"
      ]
     },
     "execution_count": 79,
     "metadata": {},
     "output_type": "execute_result"
    }
   ],
   "source": [
    "rows = []\n",
    "df = pd.DataFrame(rows, columns=[\"Tipo\", \"Palavra\", \"Linha\", \"Posicao_Inicio\", \"Posicao_Fim\"])\n",
    "df"
   ]
  },
  {
   "cell_type": "code",
   "execution_count": 80,
   "metadata": {},
   "outputs": [],
   "source": [
    "def procurar_palavras(rows, tipo, lista_palavras = [\"entrada\"]):\n",
    "    for idx, palavra in enumerate(lista_palavras):\n",
    "        if tipo in [\"operadores\",\"pontuação\"]:\n",
    "            regex = rf\"(?<!:){re.escape(palavra)}(?!=)\"\n",
    "        elif tipo in [\"inteiro\"]:\n",
    "            regex = r\"[-+]?(?<!\\w)(?<![\\d.])\\d+(?![\\d.])\"\n",
    "        elif tipo in [\"real\"]:\n",
    "            regex = r\"[-+]?[0-9]*(\\.[0-9]+)\"\n",
    "        else:\n",
    "            regex = rf\"(?i)\\b{re.escape(palavra)}\\b\"\n",
    "\n",
    "        matches = re.finditer(regex, codigo_entrada, re.MULTILINE)\n",
    "\n",
    "        for matchNum, match in enumerate(matches, start=1):\n",
    "            \n",
    "            line = codigo_entrada[0:match.end()].count('\\n') + 1   \n",
    "            rows.append([tipo, match.group(), line, match.start(), match.end()])\n",
    "    \n",
    "    return rows"
   ]
  },
  {
   "cell_type": "markdown",
   "metadata": {},
   "source": [
    "## Procurar Palavras Reservadas no Código"
   ]
  },
  {
   "cell_type": "code",
   "execution_count": 81,
   "metadata": {},
   "outputs": [],
   "source": [
    "tipo = \"palavra reservada\"\n",
    "try:\n",
    "    palavra_procurada = pd.read_csv(\"lib/model/palavras_reservadas.csv\", header=None)\n",
    "    palavra_procurada = list(palavra_procurada[0])\n",
    "except:\n",
    "    palavra_procurada = [\"begin\", \"end\", \"if\", \"while\", \"for\", \"then\", \"program\"]"
   ]
  },
  {
   "cell_type": "code",
   "execution_count": 82,
   "metadata": {},
   "outputs": [],
   "source": [
    "rows = procurar_palavras(rows, tipo, palavra_procurada)"
   ]
  },
  {
   "cell_type": "markdown",
   "metadata": {},
   "source": [
    "## Procurar Variáveis no Código"
   ]
  },
  {
   "cell_type": "code",
   "execution_count": 83,
   "metadata": {},
   "outputs": [],
   "source": [
    "tipo = \"variável\"\n",
    "try:\n",
    "    palavra_procurada = pd.read_csv(\"lib/model/variaveis.csv\", header=None)\n",
    "    palavra_procurada = list(palavra_procurada[0])\n",
    "except:\n",
    "    palavra_procurada = [\"a\", \"x1\"]"
   ]
  },
  {
   "cell_type": "code",
   "execution_count": 84,
   "metadata": {},
   "outputs": [],
   "source": [
    "rows = procurar_palavras(rows, tipo, palavra_procurada)"
   ]
  },
  {
   "cell_type": "markdown",
   "metadata": {},
   "source": [
    "## Procurar Operadores no Código"
   ]
  },
  {
   "cell_type": "code",
   "execution_count": 85,
   "metadata": {},
   "outputs": [],
   "source": [
    "tipo = \"operadores\"\n",
    "try:\n",
    "    palavra_procurada = pd.read_csv(\"lib/model/operadores.csv\", header=None)\n",
    "    palavra_procurada = list(palavra_procurada[0])\n",
    "except:\n",
    "    palavra_procurada = [\":=\"]"
   ]
  },
  {
   "cell_type": "code",
   "execution_count": 86,
   "metadata": {},
   "outputs": [],
   "source": [
    "rows = procurar_palavras(rows, tipo, palavra_procurada)"
   ]
  },
  {
   "cell_type": "markdown",
   "metadata": {},
   "source": [
    "## Procurar Pontuação no Código"
   ]
  },
  {
   "cell_type": "code",
   "execution_count": 87,
   "metadata": {},
   "outputs": [],
   "source": [
    "tipo = \"pontuação\"\n",
    "try:\n",
    "    palavra_procurada = pd.read_csv(\"lib/model/pontuacoes.csv\", header=None)\n",
    "    palavra_procurada = list(palavra_procurada[0])\n",
    "except:\n",
    "    palavra_procurada = [\";\", \":\"]"
   ]
  },
  {
   "cell_type": "code",
   "execution_count": 88,
   "metadata": {},
   "outputs": [],
   "source": [
    "rows = procurar_palavras(rows, tipo, palavra_procurada)"
   ]
  },
  {
   "cell_type": "markdown",
   "metadata": {},
   "source": [
    "## Procurar Números Inteiros no Código"
   ]
  },
  {
   "cell_type": "code",
   "execution_count": 89,
   "metadata": {},
   "outputs": [],
   "source": [
    "tipo = \"inteiro\""
   ]
  },
  {
   "cell_type": "code",
   "execution_count": 90,
   "metadata": {},
   "outputs": [],
   "source": [
    "rows = procurar_palavras(rows, tipo)"
   ]
  },
  {
   "cell_type": "markdown",
   "metadata": {},
   "source": [
    "## Procurar Números Decimais no Código"
   ]
  },
  {
   "cell_type": "code",
   "execution_count": 91,
   "metadata": {},
   "outputs": [],
   "source": [
    "tipo = \"real\""
   ]
  },
  {
   "cell_type": "code",
   "execution_count": 92,
   "metadata": {},
   "outputs": [],
   "source": [
    "rows = procurar_palavras(rows, tipo)"
   ]
  },
  {
   "cell_type": "markdown",
   "metadata": {},
   "source": [
    "## DataFrame resultante"
   ]
  },
  {
   "cell_type": "code",
   "execution_count": 93,
   "metadata": {},
   "outputs": [],
   "source": [
    "df = pd.DataFrame(rows, columns=[\"Tipo\", \"Palavra\", \"Linha\", \"Posicao_Inicio\", \"Posicao_Fim\"])"
   ]
  },
  {
   "cell_type": "code",
   "execution_count": 94,
   "metadata": {},
   "outputs": [],
   "source": [
    "df = df.sort_values(by=['Posicao_Inicio']).reset_index(drop=True)"
   ]
  },
  {
   "cell_type": "markdown",
   "metadata": {},
   "source": [
    "## Adicionar Coluna Quantidade_Por_Tipo"
   ]
  },
  {
   "cell_type": "code",
   "execution_count": 95,
   "metadata": {},
   "outputs": [],
   "source": [
    "df[\"Quantidade\"] = df.index + 1\n",
    "df[\"Quantidade_Por_Tipo\"] = \"\""
   ]
  },
  {
   "cell_type": "code",
   "execution_count": 96,
   "metadata": {},
   "outputs": [],
   "source": [
    "for tipo in df[\"Tipo\"].unique():\n",
    "    lista_indices = df[df[\"Tipo\"]==tipo].index\n",
    "    for idx, row in enumerate(lista_indices, start = 1):\n",
    "        df.loc[row,'Quantidade_Por_Tipo'] = str(idx).zfill(2) + \"/\" + str(df.loc[row,'Quantidade']).zfill(2)\n",
    "    "
   ]
  },
  {
   "cell_type": "markdown",
   "metadata": {},
   "source": [
    "## Preparar DataFrames"
   ]
  },
  {
   "cell_type": "code",
   "execution_count": 97,
   "metadata": {},
   "outputs": [],
   "source": [
    "total_linhas = df[\"Linha\"].max()\n",
    "total_tokens = df[\"Quantidade\"].max()"
   ]
  },
  {
   "cell_type": "code",
   "execution_count": 98,
   "metadata": {},
   "outputs": [],
   "source": [
    "## Isolando colunas desejadas\n",
    "\n",
    "df = df[['Tipo','Palavra','Linha','Quantidade_Por_Tipo']]"
   ]
  },
  {
   "cell_type": "code",
   "execution_count": 99,
   "metadata": {},
   "outputs": [],
   "source": [
    "## Renomeando colunas\n",
    "\n",
    "df = df.rename(columns = {\n",
    "    'Tipo' : 'Classe'\n",
    "    , 'Palavra' : 'token'\n",
    "    , 'Linha' : 'linha'\n",
    "    , 'Quantidade_Por_Tipo' : 'quantidade (1ª coluna(qtdade da classe), 2ª qtdade de tokens)'\n",
    "    })"
   ]
  },
  {
   "cell_type": "code",
   "execution_count": 100,
   "metadata": {},
   "outputs": [
    {
     "data": {
      "text/html": [
       "<div>\n",
       "<style scoped>\n",
       "    .dataframe tbody tr th:only-of-type {\n",
       "        vertical-align: middle;\n",
       "    }\n",
       "\n",
       "    .dataframe tbody tr th {\n",
       "        vertical-align: top;\n",
       "    }\n",
       "\n",
       "    .dataframe thead th {\n",
       "        text-align: right;\n",
       "    }\n",
       "</style>\n",
       "<table border=\"1\" class=\"dataframe\">\n",
       "  <thead>\n",
       "    <tr style=\"text-align: right;\">\n",
       "      <th></th>\n",
       "      <th>Classe</th>\n",
       "      <th>token</th>\n",
       "      <th>linha</th>\n",
       "      <th>quantidade (1ª coluna(qtdade da classe), 2ª qtdade de tokens)</th>\n",
       "    </tr>\n",
       "  </thead>\n",
       "  <tbody>\n",
       "    <tr>\n",
       "      <th>0</th>\n",
       "      <td>palavra reservada</td>\n",
       "      <td>begin</td>\n",
       "      <td>1</td>\n",
       "      <td>01/01</td>\n",
       "    </tr>\n",
       "    <tr>\n",
       "      <th>1</th>\n",
       "      <td>palavra reservada</td>\n",
       "      <td>end</td>\n",
       "      <td>1</td>\n",
       "      <td>02/02</td>\n",
       "    </tr>\n",
       "    <tr>\n",
       "      <th>2</th>\n",
       "      <td>palavra reservada</td>\n",
       "      <td>if</td>\n",
       "      <td>1</td>\n",
       "      <td>03/03</td>\n",
       "    </tr>\n",
       "    <tr>\n",
       "      <th>3</th>\n",
       "      <td>pontuação</td>\n",
       "      <td>;</td>\n",
       "      <td>1</td>\n",
       "      <td>01/04</td>\n",
       "    </tr>\n",
       "    <tr>\n",
       "      <th>4</th>\n",
       "      <td>pontuação</td>\n",
       "      <td>:</td>\n",
       "      <td>1</td>\n",
       "      <td>02/05</td>\n",
       "    </tr>\n",
       "    <tr>\n",
       "      <th>5</th>\n",
       "      <td>operadores</td>\n",
       "      <td>:=</td>\n",
       "      <td>1</td>\n",
       "      <td>01/06</td>\n",
       "    </tr>\n",
       "    <tr>\n",
       "      <th>6</th>\n",
       "      <td>palavra reservada</td>\n",
       "      <td>while</td>\n",
       "      <td>2</td>\n",
       "      <td>04/07</td>\n",
       "    </tr>\n",
       "    <tr>\n",
       "      <th>7</th>\n",
       "      <td>palavra reservada</td>\n",
       "      <td>for</td>\n",
       "      <td>2</td>\n",
       "      <td>05/08</td>\n",
       "    </tr>\n",
       "    <tr>\n",
       "      <th>8</th>\n",
       "      <td>palavra reservada</td>\n",
       "      <td>then</td>\n",
       "      <td>2</td>\n",
       "      <td>06/09</td>\n",
       "    </tr>\n",
       "    <tr>\n",
       "      <th>9</th>\n",
       "      <td>inteiro</td>\n",
       "      <td>20</td>\n",
       "      <td>2</td>\n",
       "      <td>01/10</td>\n",
       "    </tr>\n",
       "    <tr>\n",
       "      <th>10</th>\n",
       "      <td>real</td>\n",
       "      <td>5.5</td>\n",
       "      <td>2</td>\n",
       "      <td>01/11</td>\n",
       "    </tr>\n",
       "    <tr>\n",
       "      <th>11</th>\n",
       "      <td>variável</td>\n",
       "      <td>x1</td>\n",
       "      <td>2</td>\n",
       "      <td>01/12</td>\n",
       "    </tr>\n",
       "    <tr>\n",
       "      <th>12</th>\n",
       "      <td>variável</td>\n",
       "      <td>a</td>\n",
       "      <td>2</td>\n",
       "      <td>02/13</td>\n",
       "    </tr>\n",
       "    <tr>\n",
       "      <th>13</th>\n",
       "      <td>palavra reservada</td>\n",
       "      <td>program</td>\n",
       "      <td>2</td>\n",
       "      <td>07/14</td>\n",
       "    </tr>\n",
       "  </tbody>\n",
       "</table>\n",
       "</div>"
      ],
      "text/plain": [
       "               Classe    token  linha  \\\n",
       "0   palavra reservada    begin      1   \n",
       "1   palavra reservada      end      1   \n",
       "2   palavra reservada       if      1   \n",
       "3           pontuação        ;      1   \n",
       "4           pontuação        :      1   \n",
       "5          operadores       :=      1   \n",
       "6   palavra reservada    while      2   \n",
       "7   palavra reservada      for      2   \n",
       "8   palavra reservada     then      2   \n",
       "9             inteiro       20      2   \n",
       "10               real      5.5      2   \n",
       "11           variável       x1      2   \n",
       "12           variável        a      2   \n",
       "13  palavra reservada  program      2   \n",
       "\n",
       "   quantidade (1ª coluna(qtdade da classe), 2ª qtdade de tokens)  \n",
       "0                                               01/01             \n",
       "1                                               02/02             \n",
       "2                                               03/03             \n",
       "3                                               01/04             \n",
       "4                                               02/05             \n",
       "5                                               01/06             \n",
       "6                                               04/07             \n",
       "7                                               05/08             \n",
       "8                                               06/09             \n",
       "9                                               01/10             \n",
       "10                                              01/11             \n",
       "11                                              01/12             \n",
       "12                                              02/13             \n",
       "13                                              07/14             "
      ]
     },
     "execution_count": 100,
     "metadata": {},
     "output_type": "execute_result"
    }
   ],
   "source": [
    "df"
   ]
  },
  {
   "cell_type": "code",
   "execution_count": 101,
   "metadata": {},
   "outputs": [],
   "source": [
    "df_agrupado = df.groupby(by = 'Classe').size().reset_index(name='quantidade')"
   ]
  },
  {
   "cell_type": "code",
   "execution_count": 102,
   "metadata": {},
   "outputs": [],
   "source": [
    "df_agrupado.loc[len(df_agrupado)] = [\"Total linhas\", total_linhas]\n",
    "df_agrupado.loc[len(df_agrupado)] = [\"Total tokens\", total_tokens]"
   ]
  },
  {
   "cell_type": "code",
   "execution_count": 103,
   "metadata": {},
   "outputs": [],
   "source": [
    "df_agrupado[\"quantidade\"] = df_agrupado[\"quantidade\"].astype(str).str.zfill(2)"
   ]
  },
  {
   "cell_type": "code",
   "execution_count": 104,
   "metadata": {},
   "outputs": [],
   "source": [
    "df_agrupado.loc[df_agrupado[\"Classe\"]==\"inteiro\",\"Classe\"] = \"números inteiros\"\n",
    "df_agrupado.loc[df_agrupado[\"Classe\"]==\"real\",\"Classe\"] = \"números reais\"\n",
    "df_agrupado.loc[df_agrupado[\"Classe\"]==\"variável\",\"Classe\"] = \"variáveis\""
   ]
  },
  {
   "cell_type": "code",
   "execution_count": 105,
   "metadata": {},
   "outputs": [
    {
     "data": {
      "text/html": [
       "<div>\n",
       "<style scoped>\n",
       "    .dataframe tbody tr th:only-of-type {\n",
       "        vertical-align: middle;\n",
       "    }\n",
       "\n",
       "    .dataframe tbody tr th {\n",
       "        vertical-align: top;\n",
       "    }\n",
       "\n",
       "    .dataframe thead th {\n",
       "        text-align: right;\n",
       "    }\n",
       "</style>\n",
       "<table border=\"1\" class=\"dataframe\">\n",
       "  <thead>\n",
       "    <tr style=\"text-align: right;\">\n",
       "      <th></th>\n",
       "      <th>Classe</th>\n",
       "      <th>quantidade</th>\n",
       "    </tr>\n",
       "  </thead>\n",
       "  <tbody>\n",
       "    <tr>\n",
       "      <th>0</th>\n",
       "      <td>números inteiros</td>\n",
       "      <td>01</td>\n",
       "    </tr>\n",
       "    <tr>\n",
       "      <th>1</th>\n",
       "      <td>operadores</td>\n",
       "      <td>01</td>\n",
       "    </tr>\n",
       "    <tr>\n",
       "      <th>2</th>\n",
       "      <td>palavra reservada</td>\n",
       "      <td>07</td>\n",
       "    </tr>\n",
       "    <tr>\n",
       "      <th>3</th>\n",
       "      <td>pontuação</td>\n",
       "      <td>02</td>\n",
       "    </tr>\n",
       "    <tr>\n",
       "      <th>4</th>\n",
       "      <td>números reais</td>\n",
       "      <td>01</td>\n",
       "    </tr>\n",
       "    <tr>\n",
       "      <th>5</th>\n",
       "      <td>variáveis</td>\n",
       "      <td>02</td>\n",
       "    </tr>\n",
       "    <tr>\n",
       "      <th>6</th>\n",
       "      <td>Total linhas</td>\n",
       "      <td>02</td>\n",
       "    </tr>\n",
       "    <tr>\n",
       "      <th>7</th>\n",
       "      <td>Total tokens</td>\n",
       "      <td>14</td>\n",
       "    </tr>\n",
       "  </tbody>\n",
       "</table>\n",
       "</div>"
      ],
      "text/plain": [
       "              Classe quantidade\n",
       "0   números inteiros         01\n",
       "1         operadores         01\n",
       "2  palavra reservada         07\n",
       "3          pontuação         02\n",
       "4      números reais         01\n",
       "5          variáveis         02\n",
       "6       Total linhas         02\n",
       "7       Total tokens         14"
      ]
     },
     "execution_count": 105,
     "metadata": {},
     "output_type": "execute_result"
    }
   ],
   "source": [
    "df_agrupado"
   ]
  },
  {
   "cell_type": "markdown",
   "metadata": {},
   "source": [
    "## Arquivo de Saída"
   ]
  },
  {
   "cell_type": "code",
   "execution_count": 106,
   "metadata": {},
   "outputs": [],
   "source": [
    "nome_arquivo_saida = f'output/{nome_arquivo.split(\".p\")[0]}.csv'\n",
    "df.to_csv(nome_arquivo_saida, index = False)"
   ]
  },
  {
   "cell_type": "code",
   "execution_count": 107,
   "metadata": {},
   "outputs": [],
   "source": [
    "nome_arquivo_saida = f'output/{nome_arquivo.split(\".p\")[0]}_stats.csv'\n",
    "df_agrupado.to_csv(nome_arquivo_saida, index = False)"
   ]
  },
  {
   "cell_type": "code",
   "execution_count": 108,
   "metadata": {},
   "outputs": [
    {
     "name": "stdout",
     "output_type": "stream",
     "text": [
      "╒═══════════════════╤═════════╤═════════╤═════════════════════════════════════════════════════════════════╕\n",
      "│ Classe            │ token   │   linha │ quantidade (1ª coluna(qtdade da classe), 2ª qtdade de tokens)   │\n",
      "╞═══════════════════╪═════════╪═════════╪═════════════════════════════════════════════════════════════════╡\n",
      "│ palavra reservada │ begin   │       1 │ 01/01                                                           │\n",
      "├───────────────────┼─────────┼─────────┼─────────────────────────────────────────────────────────────────┤\n",
      "│ palavra reservada │ end     │       1 │ 02/02                                                           │\n",
      "├───────────────────┼─────────┼─────────┼─────────────────────────────────────────────────────────────────┤\n",
      "│ palavra reservada │ if      │       1 │ 03/03                                                           │\n",
      "├───────────────────┼─────────┼─────────┼─────────────────────────────────────────────────────────────────┤\n",
      "│ pontuação         │ ;       │       1 │ 01/04                                                           │\n",
      "├───────────────────┼─────────┼─────────┼─────────────────────────────────────────────────────────────────┤\n",
      "│ pontuação         │ :       │       1 │ 02/05                                                           │\n",
      "├───────────────────┼─────────┼─────────┼─────────────────────────────────────────────────────────────────┤\n",
      "│ operadores        │ :=      │       1 │ 01/06                                                           │\n",
      "├───────────────────┼─────────┼─────────┼─────────────────────────────────────────────────────────────────┤\n",
      "│ palavra reservada │ while   │       2 │ 04/07                                                           │\n",
      "├───────────────────┼─────────┼─────────┼─────────────────────────────────────────────────────────────────┤\n",
      "│ palavra reservada │ for     │       2 │ 05/08                                                           │\n",
      "├───────────────────┼─────────┼─────────┼─────────────────────────────────────────────────────────────────┤\n",
      "│ palavra reservada │ then    │       2 │ 06/09                                                           │\n",
      "├───────────────────┼─────────┼─────────┼─────────────────────────────────────────────────────────────────┤\n",
      "│ inteiro           │ 20      │       2 │ 01/10                                                           │\n",
      "├───────────────────┼─────────┼─────────┼─────────────────────────────────────────────────────────────────┤\n",
      "│ real              │ 5.5     │       2 │ 01/11                                                           │\n",
      "├───────────────────┼─────────┼─────────┼─────────────────────────────────────────────────────────────────┤\n",
      "│ variável          │ x1      │       2 │ 01/12                                                           │\n",
      "├───────────────────┼─────────┼─────────┼─────────────────────────────────────────────────────────────────┤\n",
      "│ variável          │ a       │       2 │ 02/13                                                           │\n",
      "├───────────────────┼─────────┼─────────┼─────────────────────────────────────────────────────────────────┤\n",
      "│ palavra reservada │ program │       2 │ 07/14                                                           │\n",
      "╘═══════════════════╧═════════╧═════════╧═════════════════════════════════════════════════════════════════╛\n"
     ]
    }
   ],
   "source": [
    "print(df.to_markdown(index = False, tablefmt=\"fancy_grid\"))"
   ]
  },
  {
   "cell_type": "code",
   "execution_count": 109,
   "metadata": {},
   "outputs": [
    {
     "name": "stdout",
     "output_type": "stream",
     "text": [
      "╒═══════════════════╤══════════════╕\n",
      "│ Classe            │   quantidade │\n",
      "╞═══════════════════╪══════════════╡\n",
      "│ números inteiros  │           01 │\n",
      "├───────────────────┼──────────────┤\n",
      "│ operadores        │           01 │\n",
      "├───────────────────┼──────────────┤\n",
      "│ palavra reservada │           07 │\n",
      "├───────────────────┼──────────────┤\n",
      "│ pontuação         │           02 │\n",
      "├───────────────────┼──────────────┤\n",
      "│ números reais     │           01 │\n",
      "├───────────────────┼──────────────┤\n",
      "│ variáveis         │           02 │\n",
      "├───────────────────┼──────────────┤\n",
      "│ Total linhas      │           02 │\n",
      "├───────────────────┼──────────────┤\n",
      "│ Total tokens      │           14 │\n",
      "╘═══════════════════╧══════════════╛\n"
     ]
    }
   ],
   "source": [
    "print(df_agrupado.to_markdown(index = False, tablefmt=\"fancy_grid\"))"
   ]
  },
  {
   "cell_type": "code",
   "execution_count": null,
   "metadata": {},
   "outputs": [],
   "source": []
  }
 ],
 "metadata": {
  "interpreter": {
   "hash": "e87665ec0a165f363d8cc3bca4f0bcbed11768be787550cb756e5633f85a0d65"
  },
  "kernelspec": {
   "display_name": "Python 3.8.5 64-bit ('base': conda)",
   "name": "python3"
  },
  "language_info": {
   "codemirror_mode": {
    "name": "ipython",
    "version": 3
   },
   "file_extension": ".py",
   "mimetype": "text/x-python",
   "name": "python",
   "nbconvert_exporter": "python",
   "pygments_lexer": "ipython3",
   "version": "3.8.5"
  },
  "orig_nbformat": 4
 },
 "nbformat": 4,
 "nbformat_minor": 2
}
