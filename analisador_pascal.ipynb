{
 "cells": [
  {
   "cell_type": "code",
   "execution_count": 143,
   "source": [
    "import pandas as pd\r\n",
    "import re"
   ],
   "outputs": [],
   "metadata": {}
  },
  {
   "cell_type": "code",
   "execution_count": 144,
   "source": [
    "from tabulate import tabulate"
   ],
   "outputs": [],
   "metadata": {}
  },
  {
   "cell_type": "markdown",
   "source": [
    "## Codigo de Entrada"
   ],
   "metadata": {}
  },
  {
   "cell_type": "code",
   "execution_count": 145,
   "source": [
    "nome_arquivo = \"lights.p\"\r\n",
    "codigo_entrada = open(\"lib/\" + nome_arquivo, \"r\", encoding=\"utf8\").read()"
   ],
   "outputs": [],
   "metadata": {}
  },
  {
   "cell_type": "code",
   "execution_count": 146,
   "source": [
    "print(codigo_entrada)"
   ],
   "outputs": [
    {
     "output_type": "stream",
     "name": "stdout",
     "text": [
      "program lights;\n",
      "uses crt;\n",
      "var a,b:integer;\n",
      "label 1;\n",
      "begin\n",
      "textbackground(white);\n",
      "clrscr;\n",
      "for a:=1 to 1000000 do inc b;\n",
      "randomize;\n",
      "1:\n",
      "a:=random(4)+1;\n",
      "if a=1 then textbackground(blue);\n",
      "if a=2 then textbackground(red);\n",
      "if a=3 then textbackground(green);\n",
      "if a=4 then textbackground(yellow);\n",
      "write(' ');\n",
      "goto 1;\n",
      "end.\n"
     ]
    }
   ],
   "metadata": {}
  },
  {
   "cell_type": "markdown",
   "source": [
    "## Definição de DataFrame resultante"
   ],
   "metadata": {}
  },
  {
   "cell_type": "code",
   "execution_count": 147,
   "source": [
    "rows = []\r\n",
    "df = pd.DataFrame(rows, columns=[\"Tipo\", \"Palavra\", \"Linha\", \"Posicao_Inicio\", \"Posicao_Fim\"])\r\n",
    "\r\n",
    "df"
   ],
   "outputs": [
    {
     "output_type": "execute_result",
     "data": {
      "text/html": [
       "<div>\n",
       "<style scoped>\n",
       "    .dataframe tbody tr th:only-of-type {\n",
       "        vertical-align: middle;\n",
       "    }\n",
       "\n",
       "    .dataframe tbody tr th {\n",
       "        vertical-align: top;\n",
       "    }\n",
       "\n",
       "    .dataframe thead th {\n",
       "        text-align: right;\n",
       "    }\n",
       "</style>\n",
       "<table border=\"1\" class=\"dataframe\">\n",
       "  <thead>\n",
       "    <tr style=\"text-align: right;\">\n",
       "      <th></th>\n",
       "      <th>Tipo</th>\n",
       "      <th>Palavra</th>\n",
       "      <th>Linha</th>\n",
       "      <th>Posicao_Inicio</th>\n",
       "      <th>Posicao_Fim</th>\n",
       "    </tr>\n",
       "  </thead>\n",
       "  <tbody>\n",
       "  </tbody>\n",
       "</table>\n",
       "</div>"
      ],
      "text/plain": [
       "Empty DataFrame\n",
       "Columns: [Tipo, Palavra, Linha, Posicao_Inicio, Posicao_Fim]\n",
       "Index: []"
      ]
     },
     "metadata": {},
     "execution_count": 147
    }
   ],
   "metadata": {}
  },
  {
   "cell_type": "markdown",
   "source": [
    "## Procurar Palavras Reservadas no Código"
   ],
   "metadata": {}
  },
  {
   "cell_type": "code",
   "execution_count": 148,
   "source": [
    "palavras_reservadas = pd.read_csv(\"lib/palavras_reservadas.csv\", header=None)\r\n",
    "palavras_reservadas = list(palavras_reservadas[0])"
   ],
   "outputs": [],
   "metadata": {}
  },
  {
   "cell_type": "code",
   "execution_count": 149,
   "source": [
    "tipo = \"Palavras Reservadas\""
   ],
   "outputs": [],
   "metadata": {}
  },
  {
   "cell_type": "code",
   "execution_count": 150,
   "source": [
    "for idx, palavra in enumerate(palavras_reservadas):\r\n",
    "    # print(f'id = {idx}, palavra = {palavra}')\r\n",
    "    regex = rf\"(?i){palavra}\"\r\n",
    "\r\n",
    "    matches = re.finditer(regex, codigo_entrada, re.MULTILINE)\r\n",
    "\r\n",
    "    for matchNum, match in enumerate(matches, start=1):\r\n",
    "        \r\n",
    "        line = codigo_entrada[0:match.end()].count('\\n') + 1   \r\n",
    "        rows.append([tipo, match.group(), line, match.start(), match.end()])"
   ],
   "outputs": [],
   "metadata": {}
  },
  {
   "cell_type": "markdown",
   "source": [
    "## Procurar Símbolos no Código"
   ],
   "metadata": {}
  },
  {
   "cell_type": "code",
   "execution_count": 151,
   "source": [
    "simbolos = pd.read_csv(\"lib/simbolos.csv\", delimiter=\";\", header = None)\r\n",
    "simbolos = list(simbolos[0])"
   ],
   "outputs": [],
   "metadata": {}
  },
  {
   "cell_type": "code",
   "execution_count": 152,
   "source": [
    "tipo = \"Símbolos\""
   ],
   "outputs": [],
   "metadata": {}
  },
  {
   "cell_type": "code",
   "execution_count": 153,
   "source": [
    "for idx, palavra in enumerate(simbolos):\r\n",
    "    # print(f'id = {idx}, palavra = {palavra}')\r\n",
    "    regex = rf\"(?i){re.escape(palavra)}\"\r\n",
    "\r\n",
    "    try:\r\n",
    "        matches = re.finditer(regex, codigo_entrada, re.MULTILINE)\r\n",
    "    except:\r\n",
    "        print(f'Não foi possível a palavra: {palavra}')\r\n",
    "\r\n",
    "    for matchNum, match in enumerate(matches, start=1):\r\n",
    "        \r\n",
    "        line = codigo_entrada[0:match.end()].count('\\n') + 1   \r\n",
    "        rows.append([tipo, match.group(), line, match.start(), match.end()])"
   ],
   "outputs": [],
   "metadata": {}
  },
  {
   "cell_type": "markdown",
   "source": [
    "## Procurar Variáveis no Código"
   ],
   "metadata": {}
  },
  {
   "cell_type": "code",
   "execution_count": 154,
   "source": [
    "tipo = \"Variáveis\""
   ],
   "outputs": [],
   "metadata": {}
  },
  {
   "cell_type": "code",
   "execution_count": 155,
   "source": [
    "# print(f'id = {idx}, palavra = {palavra}')\r\n",
    "regex = rf\"(?i).*:=\"\r\n",
    "\r\n",
    "matches = re.finditer(regex, codigo_entrada, re.MULTILINE)\r\n",
    "\r\n",
    "for matchNum, match in enumerate(matches, start=1):\r\n",
    "    \r\n",
    "    line = codigo_entrada[0:match.end()].count('\\n') + 1 \r\n",
    "    variable = match.group().split(\":=\")[0].split(\" \")[-1]\r\n",
    "    rows.append([tipo, variable, line, match.start(), match.end()])"
   ],
   "outputs": [],
   "metadata": {}
  },
  {
   "cell_type": "markdown",
   "source": [
    "## Procurar Números Inteiros no Código"
   ],
   "metadata": {}
  },
  {
   "cell_type": "code",
   "execution_count": 156,
   "source": [
    "tipo = \"Números Inteiros\""
   ],
   "outputs": [],
   "metadata": {}
  },
  {
   "cell_type": "code",
   "execution_count": 157,
   "source": [
    "# print(f'id = {idx}, palavra = {palavra}')\r\n",
    "regex = r\"[-+]?(?<![\\d.])\\d+(?![\\d.])\"\r\n",
    "\r\n",
    "matches = re.finditer(regex, codigo_entrada, re.MULTILINE)\r\n",
    "\r\n",
    "for matchNum, match in enumerate(matches, start=1):\r\n",
    "    \r\n",
    "    line = codigo_entrada[0:match.end()].count('\\n') + 1 \r\n",
    "    variable = match.group()\r\n",
    "    rows.append([tipo, variable, line, match.start(), match.end()])"
   ],
   "outputs": [],
   "metadata": {}
  },
  {
   "cell_type": "markdown",
   "source": [
    "## Procurar Números Decimais no Código"
   ],
   "metadata": {}
  },
  {
   "cell_type": "code",
   "execution_count": 158,
   "source": [
    "tipo = \"Números Decimais\""
   ],
   "outputs": [],
   "metadata": {}
  },
  {
   "cell_type": "code",
   "execution_count": 159,
   "source": [
    "# print(f'id = {idx}, palavra = {palavra}')\r\n",
    "regex = r\"[-+]?[0-9]*(\\.[0-9]+)\"\r\n",
    "\r\n",
    "\r\n",
    "matches = re.finditer(regex, codigo_entrada, re.MULTILINE)\r\n",
    "\r\n",
    "for matchNum, match in enumerate(matches, start=1):\r\n",
    "    \r\n",
    "    line = codigo_entrada[0:match.end()].count('\\n') + 1 \r\n",
    "    variable = match.group()\r\n",
    "    rows.append([tipo, variable, line, match.start(), match.end()])"
   ],
   "outputs": [],
   "metadata": {}
  },
  {
   "cell_type": "markdown",
   "source": [
    "## DataFrame resultante"
   ],
   "metadata": {}
  },
  {
   "cell_type": "code",
   "execution_count": 160,
   "source": [
    "df = pd.DataFrame(rows, columns=[\"Tipo\", \"Palavra\", \"Linha\", \"Posicao_Inicio\", \"Posicao_Fim\"])"
   ],
   "outputs": [],
   "metadata": {}
  },
  {
   "cell_type": "code",
   "execution_count": 161,
   "source": [
    "df = df.sort_values(by=['Linha','Tipo']).reset_index(drop=True)"
   ],
   "outputs": [],
   "metadata": {}
  },
  {
   "cell_type": "markdown",
   "source": [
    "## Adicionar Coluna Quantidade_Por_Tipo"
   ],
   "metadata": {}
  },
  {
   "cell_type": "code",
   "execution_count": 162,
   "source": [
    "df[\"Quantidade\"] = df.index + 1\r\n",
    "df[\"Quantidade_Por_Tipo\"] = \"\""
   ],
   "outputs": [],
   "metadata": {}
  },
  {
   "cell_type": "code",
   "execution_count": 163,
   "source": [
    "for tipo in df[\"Tipo\"].unique():\r\n",
    "    lista_indices = df[df[\"Tipo\"]==tipo].index\r\n",
    "    for idx, row in enumerate(lista_indices, start = 1):\r\n",
    "        df.loc[row,'Quantidade_Por_Tipo'] = str(idx) + \"/\" + str(df.loc[row,'Quantidade'])\r\n",
    "    "
   ],
   "outputs": [],
   "metadata": {}
  },
  {
   "cell_type": "markdown",
   "source": [
    "## Arquivo de Saída"
   ],
   "metadata": {}
  },
  {
   "cell_type": "code",
   "execution_count": 164,
   "source": [
    "nome_arquivo_saida = f'output/{nome_arquivo}.csv'\r\n",
    "df.to_csv(nome_arquivo_saida)"
   ],
   "outputs": [],
   "metadata": {}
  },
  {
   "cell_type": "code",
   "execution_count": 165,
   "source": [
    "df[df[\"Tipo\"]==\"Variáveis\"]"
   ],
   "outputs": [
    {
     "output_type": "execute_result",
     "data": {
      "text/html": [
       "<div>\n",
       "<style scoped>\n",
       "    .dataframe tbody tr th:only-of-type {\n",
       "        vertical-align: middle;\n",
       "    }\n",
       "\n",
       "    .dataframe tbody tr th {\n",
       "        vertical-align: top;\n",
       "    }\n",
       "\n",
       "    .dataframe thead th {\n",
       "        text-align: right;\n",
       "    }\n",
       "</style>\n",
       "<table border=\"1\" class=\"dataframe\">\n",
       "  <thead>\n",
       "    <tr style=\"text-align: right;\">\n",
       "      <th></th>\n",
       "      <th>Tipo</th>\n",
       "      <th>Palavra</th>\n",
       "      <th>Linha</th>\n",
       "      <th>Posicao_Inicio</th>\n",
       "      <th>Posicao_Fim</th>\n",
       "      <th>Quantidade</th>\n",
       "      <th>Quantidade_Por_Tipo</th>\n",
       "    </tr>\n",
       "  </thead>\n",
       "  <tbody>\n",
       "    <tr>\n",
       "      <th>26</th>\n",
       "      <td>Variáveis</td>\n",
       "      <td>a</td>\n",
       "      <td>8</td>\n",
       "      <td>89</td>\n",
       "      <td>96</td>\n",
       "      <td>27</td>\n",
       "      <td>1/27</td>\n",
       "    </tr>\n",
       "    <tr>\n",
       "      <th>41</th>\n",
       "      <td>Variáveis</td>\n",
       "      <td>a</td>\n",
       "      <td>11</td>\n",
       "      <td>133</td>\n",
       "      <td>136</td>\n",
       "      <td>42</td>\n",
       "      <td>2/42</td>\n",
       "    </tr>\n",
       "  </tbody>\n",
       "</table>\n",
       "</div>"
      ],
      "text/plain": [
       "         Tipo Palavra  Linha  Posicao_Inicio  Posicao_Fim  Quantidade  \\\n",
       "26  Variáveis       a      8              89           96          27   \n",
       "41  Variáveis       a     11             133          136          42   \n",
       "\n",
       "   Quantidade_Por_Tipo  \n",
       "26                1/27  \n",
       "41                2/42  "
      ]
     },
     "metadata": {},
     "execution_count": 165
    }
   ],
   "metadata": {}
  },
  {
   "cell_type": "code",
   "execution_count": 166,
   "source": [
    "df[df[\"Tipo\"]==\"Números Inteiros\"]"
   ],
   "outputs": [
    {
     "output_type": "execute_result",
     "data": {
      "text/html": [
       "<div>\n",
       "<style scoped>\n",
       "    .dataframe tbody tr th:only-of-type {\n",
       "        vertical-align: middle;\n",
       "    }\n",
       "\n",
       "    .dataframe tbody tr th {\n",
       "        vertical-align: top;\n",
       "    }\n",
       "\n",
       "    .dataframe thead th {\n",
       "        text-align: right;\n",
       "    }\n",
       "</style>\n",
       "<table border=\"1\" class=\"dataframe\">\n",
       "  <thead>\n",
       "    <tr style=\"text-align: right;\">\n",
       "      <th></th>\n",
       "      <th>Tipo</th>\n",
       "      <th>Palavra</th>\n",
       "      <th>Linha</th>\n",
       "      <th>Posicao_Inicio</th>\n",
       "      <th>Posicao_Fim</th>\n",
       "      <th>Quantidade</th>\n",
       "      <th>Quantidade_Por_Tipo</th>\n",
       "    </tr>\n",
       "  </thead>\n",
       "  <tbody>\n",
       "    <tr>\n",
       "      <th>9</th>\n",
       "      <td>Números Inteiros</td>\n",
       "      <td>1</td>\n",
       "      <td>4</td>\n",
       "      <td>49</td>\n",
       "      <td>50</td>\n",
       "      <td>10</td>\n",
       "      <td>1/10</td>\n",
       "    </tr>\n",
       "    <tr>\n",
       "      <th>15</th>\n",
       "      <td>Números Inteiros</td>\n",
       "      <td>1</td>\n",
       "      <td>8</td>\n",
       "      <td>96</td>\n",
       "      <td>97</td>\n",
       "      <td>16</td>\n",
       "      <td>2/16</td>\n",
       "    </tr>\n",
       "    <tr>\n",
       "      <th>16</th>\n",
       "      <td>Números Inteiros</td>\n",
       "      <td>1000000</td>\n",
       "      <td>8</td>\n",
       "      <td>101</td>\n",
       "      <td>108</td>\n",
       "      <td>17</td>\n",
       "      <td>3/17</td>\n",
       "    </tr>\n",
       "    <tr>\n",
       "      <th>30</th>\n",
       "      <td>Números Inteiros</td>\n",
       "      <td>1</td>\n",
       "      <td>10</td>\n",
       "      <td>130</td>\n",
       "      <td>131</td>\n",
       "      <td>31</td>\n",
       "      <td>4/31</td>\n",
       "    </tr>\n",
       "    <tr>\n",
       "      <th>32</th>\n",
       "      <td>Números Inteiros</td>\n",
       "      <td>4</td>\n",
       "      <td>11</td>\n",
       "      <td>143</td>\n",
       "      <td>144</td>\n",
       "      <td>33</td>\n",
       "      <td>5/33</td>\n",
       "    </tr>\n",
       "    <tr>\n",
       "      <th>33</th>\n",
       "      <td>Números Inteiros</td>\n",
       "      <td>+1</td>\n",
       "      <td>11</td>\n",
       "      <td>145</td>\n",
       "      <td>147</td>\n",
       "      <td>34</td>\n",
       "      <td>6/34</td>\n",
       "    </tr>\n",
       "    <tr>\n",
       "      <th>42</th>\n",
       "      <td>Números Inteiros</td>\n",
       "      <td>1</td>\n",
       "      <td>12</td>\n",
       "      <td>154</td>\n",
       "      <td>155</td>\n",
       "      <td>43</td>\n",
       "      <td>7/43</td>\n",
       "    </tr>\n",
       "    <tr>\n",
       "      <th>47</th>\n",
       "      <td>Números Inteiros</td>\n",
       "      <td>2</td>\n",
       "      <td>13</td>\n",
       "      <td>188</td>\n",
       "      <td>189</td>\n",
       "      <td>48</td>\n",
       "      <td>8/48</td>\n",
       "    </tr>\n",
       "    <tr>\n",
       "      <th>52</th>\n",
       "      <td>Números Inteiros</td>\n",
       "      <td>3</td>\n",
       "      <td>14</td>\n",
       "      <td>221</td>\n",
       "      <td>222</td>\n",
       "      <td>53</td>\n",
       "      <td>9/53</td>\n",
       "    </tr>\n",
       "    <tr>\n",
       "      <th>57</th>\n",
       "      <td>Números Inteiros</td>\n",
       "      <td>4</td>\n",
       "      <td>15</td>\n",
       "      <td>256</td>\n",
       "      <td>257</td>\n",
       "      <td>58</td>\n",
       "      <td>10/58</td>\n",
       "    </tr>\n",
       "    <tr>\n",
       "      <th>63</th>\n",
       "      <td>Números Inteiros</td>\n",
       "      <td>1</td>\n",
       "      <td>17</td>\n",
       "      <td>304</td>\n",
       "      <td>305</td>\n",
       "      <td>64</td>\n",
       "      <td>11/64</td>\n",
       "    </tr>\n",
       "  </tbody>\n",
       "</table>\n",
       "</div>"
      ],
      "text/plain": [
       "                Tipo  Palavra  Linha  Posicao_Inicio  Posicao_Fim  Quantidade  \\\n",
       "9   Números Inteiros        1      4              49           50          10   \n",
       "15  Números Inteiros        1      8              96           97          16   \n",
       "16  Números Inteiros  1000000      8             101          108          17   \n",
       "30  Números Inteiros        1     10             130          131          31   \n",
       "32  Números Inteiros        4     11             143          144          33   \n",
       "33  Números Inteiros       +1     11             145          147          34   \n",
       "42  Números Inteiros        1     12             154          155          43   \n",
       "47  Números Inteiros        2     13             188          189          48   \n",
       "52  Números Inteiros        3     14             221          222          53   \n",
       "57  Números Inteiros        4     15             256          257          58   \n",
       "63  Números Inteiros        1     17             304          305          64   \n",
       "\n",
       "   Quantidade_Por_Tipo  \n",
       "9                 1/10  \n",
       "15                2/16  \n",
       "16                3/17  \n",
       "30                4/31  \n",
       "32                5/33  \n",
       "33                6/34  \n",
       "42                7/43  \n",
       "47                8/48  \n",
       "52                9/53  \n",
       "57               10/58  \n",
       "63               11/64  "
      ]
     },
     "metadata": {},
     "execution_count": 166
    }
   ],
   "metadata": {}
  },
  {
   "cell_type": "code",
   "execution_count": 167,
   "source": [
    "print(df.to_markdown())"
   ],
   "outputs": [
    {
     "output_type": "stream",
     "name": "stdout",
     "text": [
      "|    | Tipo                | Palavra   |   Linha |   Posicao_Inicio |   Posicao_Fim |   Quantidade | Quantidade_Por_Tipo   |\n",
      "|---:|:--------------------|:----------|--------:|-----------------:|--------------:|-------------:|:----------------------|\n",
      "|  0 | Palavras Reservadas | program   |       1 |                0 |             7 |            1 | 1/1                   |\n",
      "|  1 | Símbolos            | ;         |       1 |               14 |            15 |            2 | 1/2                   |\n",
      "|  2 | Palavras Reservadas | uses      |       2 |               16 |            20 |            3 | 2/3                   |\n",
      "|  3 | Símbolos            | ;         |       2 |               24 |            25 |            4 | 2/4                   |\n",
      "|  4 | Palavras Reservadas | in        |       3 |               34 |            36 |            5 | 3/5                   |\n",
      "|  5 | Palavras Reservadas | var       |       3 |               26 |            29 |            6 | 4/6                   |\n",
      "|  6 | Símbolos            | ,         |       3 |               31 |            32 |            7 | 3/7                   |\n",
      "|  7 | Símbolos            | :         |       3 |               33 |            34 |            8 | 4/8                   |\n",
      "|  8 | Símbolos            | ;         |       3 |               41 |            42 |            9 | 5/9                   |\n",
      "|  9 | Números Inteiros    | 1         |       4 |               49 |            50 |           10 | 1/10                  |\n",
      "| 10 | Símbolos            | ;         |       4 |               50 |            51 |           11 | 6/11                  |\n",
      "| 11 | Palavras Reservadas | begin     |       5 |               52 |            57 |           12 | 5/12                  |\n",
      "| 12 | Palavras Reservadas | in        |       5 |               55 |            57 |           13 | 6/13                  |\n",
      "| 13 | Símbolos            | ;         |       6 |               79 |            80 |           14 | 7/14                  |\n",
      "| 14 | Símbolos            | ;         |       7 |               87 |            88 |           15 | 8/15                  |\n",
      "| 15 | Números Inteiros    | 1         |       8 |               96 |            97 |           16 | 2/16                  |\n",
      "| 16 | Números Inteiros    | 1000000   |       8 |              101 |           108 |           17 | 3/17                  |\n",
      "| 17 | Palavras Reservadas | do        |       8 |              109 |           111 |           18 | 7/18                  |\n",
      "| 18 | Palavras Reservadas | for       |       8 |               89 |            92 |           19 | 8/19                  |\n",
      "| 19 | Palavras Reservadas | in        |       8 |              112 |           114 |           20 | 9/20                  |\n",
      "| 20 | Palavras Reservadas | or        |       8 |               90 |            92 |           21 | 10/21                 |\n",
      "| 21 | Palavras Reservadas | to        |       8 |               98 |           100 |           22 | 11/22                 |\n",
      "| 22 | Símbolos            | =         |       8 |               95 |            96 |           23 | 9/23                  |\n",
      "| 23 | Símbolos            | :=        |       8 |               94 |            96 |           24 | 10/24                 |\n",
      "| 24 | Símbolos            | :         |       8 |               94 |            95 |           25 | 11/25                 |\n",
      "| 25 | Símbolos            | ;         |       8 |              117 |           118 |           26 | 12/26                 |\n",
      "| 26 | Variáveis           | a         |       8 |               89 |            96 |           27 | 1/27                  |\n",
      "| 27 | Palavras Reservadas | and       |       9 |              120 |           123 |           28 | 12/28                 |\n",
      "| 28 | Palavras Reservadas | do        |       9 |              122 |           124 |           29 | 13/29                 |\n",
      "| 29 | Símbolos            | ;         |       9 |              128 |           129 |           30 | 13/30                 |\n",
      "| 30 | Números Inteiros    | 1         |      10 |              130 |           131 |           31 | 4/31                  |\n",
      "| 31 | Símbolos            | :         |      10 |              131 |           132 |           32 | 14/32                 |\n",
      "| 32 | Números Inteiros    | 4         |      11 |              143 |           144 |           33 | 5/33                  |\n",
      "| 33 | Números Inteiros    | +1        |      11 |              145 |           147 |           34 | 6/34                  |\n",
      "| 34 | Palavras Reservadas | and       |      11 |              137 |           140 |           35 | 14/35                 |\n",
      "| 35 | Palavras Reservadas | do        |      11 |              139 |           141 |           36 | 15/36                 |\n",
      "| 36 | Símbolos            | +         |      11 |              145 |           146 |           37 | 15/37                 |\n",
      "| 37 | Símbolos            | =         |      11 |              135 |           136 |           38 | 16/38                 |\n",
      "| 38 | Símbolos            | :=        |      11 |              134 |           136 |           39 | 17/39                 |\n",
      "| 39 | Símbolos            | :         |      11 |              134 |           135 |           40 | 18/40                 |\n",
      "| 40 | Símbolos            | ;         |      11 |              147 |           148 |           41 | 19/41                 |\n",
      "| 41 | Variáveis           | a         |      11 |              133 |           136 |           42 | 2/42                  |\n",
      "| 42 | Números Inteiros    | 1         |      12 |              154 |           155 |           43 | 7/43                  |\n",
      "| 43 | Palavras Reservadas | if        |      12 |              149 |           151 |           44 | 16/44                 |\n",
      "| 44 | Palavras Reservadas | then      |      12 |              156 |           160 |           45 | 17/45                 |\n",
      "| 45 | Símbolos            | =         |      12 |              153 |           154 |           46 | 20/46                 |\n",
      "| 46 | Símbolos            | ;         |      12 |              181 |           182 |           47 | 21/47                 |\n",
      "| 47 | Números Inteiros    | 2         |      13 |              188 |           189 |           48 | 8/48                  |\n",
      "| 48 | Palavras Reservadas | if        |      13 |              183 |           185 |           49 | 18/49                 |\n",
      "| 49 | Palavras Reservadas | then      |      13 |              190 |           194 |           50 | 19/50                 |\n",
      "| 50 | Símbolos            | =         |      13 |              187 |           188 |           51 | 22/51                 |\n",
      "| 51 | Símbolos            | ;         |      13 |              214 |           215 |           52 | 23/52                 |\n",
      "| 52 | Números Inteiros    | 3         |      14 |              221 |           222 |           53 | 9/53                  |\n",
      "| 53 | Palavras Reservadas | if        |      14 |              216 |           218 |           54 | 20/54                 |\n",
      "| 54 | Palavras Reservadas | then      |      14 |              223 |           227 |           55 | 21/55                 |\n",
      "| 55 | Símbolos            | =         |      14 |              220 |           221 |           56 | 24/56                 |\n",
      "| 56 | Símbolos            | ;         |      14 |              249 |           250 |           57 | 25/57                 |\n",
      "| 57 | Números Inteiros    | 4         |      15 |              256 |           257 |           58 | 10/58                 |\n",
      "| 58 | Palavras Reservadas | if        |      15 |              251 |           253 |           59 | 22/59                 |\n",
      "| 59 | Palavras Reservadas | then      |      15 |              258 |           262 |           60 | 23/60                 |\n",
      "| 60 | Símbolos            | =         |      15 |              255 |           256 |           61 | 26/61                 |\n",
      "| 61 | Símbolos            | ;         |      15 |              285 |           286 |           62 | 27/62                 |\n",
      "| 62 | Símbolos            | ;         |      16 |              297 |           298 |           63 | 28/63                 |\n",
      "| 63 | Números Inteiros    | 1         |      17 |              304 |           305 |           64 | 11/64                 |\n",
      "| 64 | Palavras Reservadas | to        |      17 |              301 |           303 |           65 | 24/65                 |\n",
      "| 65 | Símbolos            | ;         |      17 |              305 |           306 |           66 | 29/66                 |\n",
      "| 66 | Palavras Reservadas | end       |      18 |              307 |           310 |           67 | 25/67                 |\n",
      "| 67 | Símbolos            | .         |      18 |              310 |           311 |           68 | 30/68                 |\n"
     ]
    }
   ],
   "metadata": {}
  }
 ],
 "metadata": {
  "orig_nbformat": 4,
  "language_info": {
   "name": "python",
   "version": "3.8.5",
   "mimetype": "text/x-python",
   "codemirror_mode": {
    "name": "ipython",
    "version": 3
   },
   "pygments_lexer": "ipython3",
   "nbconvert_exporter": "python",
   "file_extension": ".py"
  },
  "kernelspec": {
   "name": "python3",
   "display_name": "Python 3.8.5 64-bit ('base': conda)"
  },
  "interpreter": {
   "hash": "e87665ec0a165f363d8cc3bca4f0bcbed11768be787550cb756e5633f85a0d65"
  }
 },
 "nbformat": 4,
 "nbformat_minor": 2
}