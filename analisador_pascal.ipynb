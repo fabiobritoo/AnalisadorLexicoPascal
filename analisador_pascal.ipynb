{
 "cells": [
  {
   "cell_type": "code",
   "execution_count": 1,
   "source": [
    "import pandas as pd\r\n",
    "import re"
   ],
   "outputs": [],
   "metadata": {}
  },
  {
   "cell_type": "code",
   "execution_count": 2,
   "source": [
    "from tabulate import tabulate"
   ],
   "outputs": [],
   "metadata": {}
  },
  {
   "cell_type": "markdown",
   "source": [
    "## Codigo de Entrada"
   ],
   "metadata": {}
  },
  {
   "cell_type": "code",
   "execution_count": 3,
   "source": [
    "nome_arquivo = \"input.p\"\r\n",
    "codigo_entrada = open(\"lib/input/\" + nome_arquivo, \"r\", encoding=\"utf8\").read()"
   ],
   "outputs": [],
   "metadata": {}
  },
  {
   "cell_type": "code",
   "execution_count": 4,
   "source": [
    "print(codigo_entrada)"
   ],
   "outputs": [
    {
     "output_type": "stream",
     "name": "stdout",
     "text": [
      "begin end if ; : :=\n",
      "while for then 20 5.5 x1 a program\n"
     ]
    }
   ],
   "metadata": {}
  },
  {
   "cell_type": "markdown",
   "source": [
    "## Definição de DataFrame resultante"
   ],
   "metadata": {}
  },
  {
   "cell_type": "code",
   "execution_count": 5,
   "source": [
    "rows = []\r\n",
    "df = pd.DataFrame(rows, columns=[\"Tipo\", \"Palavra\", \"Linha\", \"Posicao_Inicio\", \"Posicao_Fim\"])\r\n",
    "df"
   ],
   "outputs": [
    {
     "output_type": "execute_result",
     "data": {
      "text/html": [
       "<div>\n",
       "<style scoped>\n",
       "    .dataframe tbody tr th:only-of-type {\n",
       "        vertical-align: middle;\n",
       "    }\n",
       "\n",
       "    .dataframe tbody tr th {\n",
       "        vertical-align: top;\n",
       "    }\n",
       "\n",
       "    .dataframe thead th {\n",
       "        text-align: right;\n",
       "    }\n",
       "</style>\n",
       "<table border=\"1\" class=\"dataframe\">\n",
       "  <thead>\n",
       "    <tr style=\"text-align: right;\">\n",
       "      <th></th>\n",
       "      <th>Tipo</th>\n",
       "      <th>Palavra</th>\n",
       "      <th>Linha</th>\n",
       "      <th>Posicao_Inicio</th>\n",
       "      <th>Posicao_Fim</th>\n",
       "    </tr>\n",
       "  </thead>\n",
       "  <tbody>\n",
       "  </tbody>\n",
       "</table>\n",
       "</div>"
      ],
      "text/plain": [
       "Empty DataFrame\n",
       "Columns: [Tipo, Palavra, Linha, Posicao_Inicio, Posicao_Fim]\n",
       "Index: []"
      ]
     },
     "metadata": {},
     "execution_count": 5
    }
   ],
   "metadata": {}
  },
  {
   "cell_type": "code",
   "execution_count": 6,
   "source": [
    "def procurar_palavras(row, tipo, lista_palavras = [\"entrada\"]):\r\n",
    "    for idx, palavra in enumerate(lista_palavras):\r\n",
    "        if tipo in [\"operadores\",\"pontuação\"]:\r\n",
    "            regex = rf\"(?<!:){re.escape(palavra)}(?!=)\"\r\n",
    "        elif tipo in [\"inteiro\"]:\r\n",
    "            regex = r\"[-+]?(?<!\\w)(?<![\\d.])\\d+(?![\\d.])\"\r\n",
    "        elif tipo in [\"real\"]:\r\n",
    "            regex = r\"[-+]?[0-9]*(\\.[0-9]+)\"\r\n",
    "        else:\r\n",
    "            regex = rf\"(?i)\\b{re.escape(palavra)}\\b\"\r\n",
    "\r\n",
    "        matches = re.finditer(regex, codigo_entrada, re.MULTILINE)\r\n",
    "\r\n",
    "        for matchNum, match in enumerate(matches, start=1):\r\n",
    "            \r\n",
    "            line = codigo_entrada[0:match.end()].count('\\n') + 1   \r\n",
    "            rows.append([tipo, match.group(), line, match.start(), match.end()])\r\n",
    "    \r\n",
    "    return rows"
   ],
   "outputs": [],
   "metadata": {}
  },
  {
   "cell_type": "markdown",
   "source": [
    "## Procurar Palavras Reservadas no Código"
   ],
   "metadata": {}
  },
  {
   "cell_type": "code",
   "execution_count": 7,
   "source": [
    "palavra_procurada = pd.read_csv(\"lib/model/palavras_reservadas.csv\", header=None)\r\n",
    "palavra_procurada = list(palavra_procurada[0])\r\n",
    "tipo = \"palavra reservada\""
   ],
   "outputs": [],
   "metadata": {}
  },
  {
   "cell_type": "code",
   "execution_count": 8,
   "source": [
    "rows = procurar_palavras(rows, tipo, palavra_procurada)"
   ],
   "outputs": [],
   "metadata": {}
  },
  {
   "cell_type": "markdown",
   "source": [
    "## Procurar Variáveis no Código"
   ],
   "metadata": {}
  },
  {
   "cell_type": "code",
   "execution_count": 9,
   "source": [
    "palavra_procurada = pd.read_csv(\"lib/model/variaveis.csv\", header=None)\r\n",
    "palavra_procurada = list(palavra_procurada[0])\r\n",
    "tipo = \"variável\""
   ],
   "outputs": [],
   "metadata": {}
  },
  {
   "cell_type": "code",
   "execution_count": 10,
   "source": [
    "rows = procurar_palavras(rows, tipo, palavra_procurada)"
   ],
   "outputs": [],
   "metadata": {}
  },
  {
   "cell_type": "markdown",
   "source": [
    "## Procurar Operadores no Código"
   ],
   "metadata": {}
  },
  {
   "cell_type": "code",
   "execution_count": 11,
   "source": [
    "palavra_procurada = pd.read_csv(\"lib/model/operadores.csv\", header=None)\r\n",
    "palavra_procurada = list(palavra_procurada[0])\r\n",
    "tipo = \"operadores\""
   ],
   "outputs": [],
   "metadata": {}
  },
  {
   "cell_type": "code",
   "execution_count": 12,
   "source": [
    "rows = procurar_palavras(rows, tipo, palavra_procurada)"
   ],
   "outputs": [],
   "metadata": {}
  },
  {
   "cell_type": "markdown",
   "source": [
    "## Procurar Pontuação no Código"
   ],
   "metadata": {}
  },
  {
   "cell_type": "code",
   "execution_count": 13,
   "source": [
    "palavra_procurada = pd.read_csv(\"lib/model/pontuacoes.csv\", header=None)\r\n",
    "palavra_procurada = list(palavra_procurada[0])\r\n",
    "tipo = \"pontuação\""
   ],
   "outputs": [],
   "metadata": {}
  },
  {
   "cell_type": "code",
   "execution_count": 14,
   "source": [
    "rows = procurar_palavras(rows, tipo, palavra_procurada)"
   ],
   "outputs": [],
   "metadata": {}
  },
  {
   "cell_type": "markdown",
   "source": [
    "## Procurar Números Inteiros no Código"
   ],
   "metadata": {}
  },
  {
   "cell_type": "code",
   "execution_count": 15,
   "source": [
    "tipo = \"inteiro\""
   ],
   "outputs": [],
   "metadata": {}
  },
  {
   "cell_type": "code",
   "execution_count": 16,
   "source": [
    "rows = procurar_palavras(rows, tipo)"
   ],
   "outputs": [],
   "metadata": {}
  },
  {
   "cell_type": "markdown",
   "source": [
    "## Procurar Números Decimais no Código"
   ],
   "metadata": {}
  },
  {
   "cell_type": "code",
   "execution_count": 17,
   "source": [
    "tipo = \"real\""
   ],
   "outputs": [],
   "metadata": {}
  },
  {
   "cell_type": "code",
   "execution_count": 18,
   "source": [
    "rows = procurar_palavras(rows, tipo)"
   ],
   "outputs": [],
   "metadata": {}
  },
  {
   "cell_type": "markdown",
   "source": [
    "## DataFrame resultante"
   ],
   "metadata": {}
  },
  {
   "cell_type": "code",
   "execution_count": 19,
   "source": [
    "df = pd.DataFrame(rows, columns=[\"Tipo\", \"Palavra\", \"Linha\", \"Posicao_Inicio\", \"Posicao_Fim\"])"
   ],
   "outputs": [],
   "metadata": {}
  },
  {
   "cell_type": "code",
   "execution_count": 20,
   "source": [
    "df = df.sort_values(by=['Posicao_Inicio']).reset_index(drop=True)"
   ],
   "outputs": [],
   "metadata": {}
  },
  {
   "cell_type": "markdown",
   "source": [
    "## Adicionar Coluna Quantidade_Por_Tipo"
   ],
   "metadata": {}
  },
  {
   "cell_type": "code",
   "execution_count": 21,
   "source": [
    "df[\"Quantidade\"] = df.index + 1\r\n",
    "df[\"Quantidade_Por_Tipo\"] = \"\""
   ],
   "outputs": [],
   "metadata": {}
  },
  {
   "cell_type": "code",
   "execution_count": 22,
   "source": [
    "for tipo in df[\"Tipo\"].unique():\r\n",
    "    lista_indices = df[df[\"Tipo\"]==tipo].index\r\n",
    "    for idx, row in enumerate(lista_indices, start = 1):\r\n",
    "        df.loc[row,'Quantidade_Por_Tipo'] = str(idx).zfill(2) + \"/\" + str(df.loc[row,'Quantidade']).zfill(2)\r\n",
    "    "
   ],
   "outputs": [],
   "metadata": {}
  },
  {
   "cell_type": "markdown",
   "source": [
    "## Preparar DataFrames"
   ],
   "metadata": {}
  },
  {
   "cell_type": "code",
   "execution_count": 23,
   "source": [
    "total_linhas = df[\"Linha\"].max()\r\n",
    "total_tokens = df[\"Quantidade\"].max()"
   ],
   "outputs": [],
   "metadata": {}
  },
  {
   "cell_type": "code",
   "execution_count": 24,
   "source": [
    "## Isolando colunas desejadas\r\n",
    "\r\n",
    "df = df[['Tipo','Palavra','Linha','Quantidade_Por_Tipo']]"
   ],
   "outputs": [],
   "metadata": {}
  },
  {
   "cell_type": "code",
   "execution_count": 25,
   "source": [
    "## Renomeando colunas\r\n",
    "\r\n",
    "df = df.rename(columns = {\r\n",
    "    'Tipo' : 'Classe'\r\n",
    "    , 'Palavra' : 'token'\r\n",
    "    , 'Linha' : 'linha'\r\n",
    "    , 'Quantidade_Por_Tipo' : 'quantidade (1ª coluna(qtdade da classe), 2ª qtdade de tokens)'\r\n",
    "    })"
   ],
   "outputs": [],
   "metadata": {}
  },
  {
   "cell_type": "code",
   "execution_count": 26,
   "source": [
    "df"
   ],
   "outputs": [
    {
     "output_type": "execute_result",
     "data": {
      "text/html": [
       "<div>\n",
       "<style scoped>\n",
       "    .dataframe tbody tr th:only-of-type {\n",
       "        vertical-align: middle;\n",
       "    }\n",
       "\n",
       "    .dataframe tbody tr th {\n",
       "        vertical-align: top;\n",
       "    }\n",
       "\n",
       "    .dataframe thead th {\n",
       "        text-align: right;\n",
       "    }\n",
       "</style>\n",
       "<table border=\"1\" class=\"dataframe\">\n",
       "  <thead>\n",
       "    <tr style=\"text-align: right;\">\n",
       "      <th></th>\n",
       "      <th>Classe</th>\n",
       "      <th>token</th>\n",
       "      <th>linha</th>\n",
       "      <th>quantidade (1ª coluna(qtdade da classe), 2ª qtdade de tokens)</th>\n",
       "    </tr>\n",
       "  </thead>\n",
       "  <tbody>\n",
       "    <tr>\n",
       "      <th>0</th>\n",
       "      <td>palavra reservada</td>\n",
       "      <td>begin</td>\n",
       "      <td>1</td>\n",
       "      <td>01/01</td>\n",
       "    </tr>\n",
       "    <tr>\n",
       "      <th>1</th>\n",
       "      <td>palavra reservada</td>\n",
       "      <td>end</td>\n",
       "      <td>1</td>\n",
       "      <td>02/02</td>\n",
       "    </tr>\n",
       "    <tr>\n",
       "      <th>2</th>\n",
       "      <td>palavra reservada</td>\n",
       "      <td>if</td>\n",
       "      <td>1</td>\n",
       "      <td>03/03</td>\n",
       "    </tr>\n",
       "    <tr>\n",
       "      <th>3</th>\n",
       "      <td>pontuação</td>\n",
       "      <td>;</td>\n",
       "      <td>1</td>\n",
       "      <td>01/04</td>\n",
       "    </tr>\n",
       "    <tr>\n",
       "      <th>4</th>\n",
       "      <td>pontuação</td>\n",
       "      <td>:</td>\n",
       "      <td>1</td>\n",
       "      <td>02/05</td>\n",
       "    </tr>\n",
       "    <tr>\n",
       "      <th>5</th>\n",
       "      <td>operadores</td>\n",
       "      <td>:=</td>\n",
       "      <td>1</td>\n",
       "      <td>01/06</td>\n",
       "    </tr>\n",
       "    <tr>\n",
       "      <th>6</th>\n",
       "      <td>palavra reservada</td>\n",
       "      <td>while</td>\n",
       "      <td>2</td>\n",
       "      <td>04/07</td>\n",
       "    </tr>\n",
       "    <tr>\n",
       "      <th>7</th>\n",
       "      <td>palavra reservada</td>\n",
       "      <td>for</td>\n",
       "      <td>2</td>\n",
       "      <td>05/08</td>\n",
       "    </tr>\n",
       "    <tr>\n",
       "      <th>8</th>\n",
       "      <td>palavra reservada</td>\n",
       "      <td>then</td>\n",
       "      <td>2</td>\n",
       "      <td>06/09</td>\n",
       "    </tr>\n",
       "    <tr>\n",
       "      <th>9</th>\n",
       "      <td>inteiro</td>\n",
       "      <td>20</td>\n",
       "      <td>2</td>\n",
       "      <td>01/10</td>\n",
       "    </tr>\n",
       "    <tr>\n",
       "      <th>10</th>\n",
       "      <td>real</td>\n",
       "      <td>5.5</td>\n",
       "      <td>2</td>\n",
       "      <td>01/11</td>\n",
       "    </tr>\n",
       "    <tr>\n",
       "      <th>11</th>\n",
       "      <td>variável</td>\n",
       "      <td>x1</td>\n",
       "      <td>2</td>\n",
       "      <td>01/12</td>\n",
       "    </tr>\n",
       "    <tr>\n",
       "      <th>12</th>\n",
       "      <td>variável</td>\n",
       "      <td>a</td>\n",
       "      <td>2</td>\n",
       "      <td>02/13</td>\n",
       "    </tr>\n",
       "    <tr>\n",
       "      <th>13</th>\n",
       "      <td>palavra reservada</td>\n",
       "      <td>program</td>\n",
       "      <td>2</td>\n",
       "      <td>07/14</td>\n",
       "    </tr>\n",
       "  </tbody>\n",
       "</table>\n",
       "</div>"
      ],
      "text/plain": [
       "               Classe    token  linha  \\\n",
       "0   palavra reservada    begin      1   \n",
       "1   palavra reservada      end      1   \n",
       "2   palavra reservada       if      1   \n",
       "3           pontuação        ;      1   \n",
       "4           pontuação        :      1   \n",
       "5          operadores       :=      1   \n",
       "6   palavra reservada    while      2   \n",
       "7   palavra reservada      for      2   \n",
       "8   palavra reservada     then      2   \n",
       "9             inteiro       20      2   \n",
       "10               real      5.5      2   \n",
       "11           variável       x1      2   \n",
       "12           variável        a      2   \n",
       "13  palavra reservada  program      2   \n",
       "\n",
       "   quantidade (1ª coluna(qtdade da classe), 2ª qtdade de tokens)  \n",
       "0                                               01/01             \n",
       "1                                               02/02             \n",
       "2                                               03/03             \n",
       "3                                               01/04             \n",
       "4                                               02/05             \n",
       "5                                               01/06             \n",
       "6                                               04/07             \n",
       "7                                               05/08             \n",
       "8                                               06/09             \n",
       "9                                               01/10             \n",
       "10                                              01/11             \n",
       "11                                              01/12             \n",
       "12                                              02/13             \n",
       "13                                              07/14             "
      ]
     },
     "metadata": {},
     "execution_count": 26
    }
   ],
   "metadata": {}
  },
  {
   "cell_type": "code",
   "execution_count": 27,
   "source": [
    "df_agrupado = df.groupby(by = 'Classe').size().reset_index(name='quantidade')"
   ],
   "outputs": [],
   "metadata": {}
  },
  {
   "cell_type": "code",
   "execution_count": 28,
   "source": [
    "df_agrupado.loc[len(df_agrupado)] = [\"Total linhas\", total_linhas]\r\n",
    "df_agrupado.loc[len(df_agrupado)] = [\"Total tokens\", total_tokens]"
   ],
   "outputs": [],
   "metadata": {}
  },
  {
   "cell_type": "code",
   "execution_count": 29,
   "source": [
    "df_agrupado"
   ],
   "outputs": [
    {
     "output_type": "execute_result",
     "data": {
      "text/html": [
       "<div>\n",
       "<style scoped>\n",
       "    .dataframe tbody tr th:only-of-type {\n",
       "        vertical-align: middle;\n",
       "    }\n",
       "\n",
       "    .dataframe tbody tr th {\n",
       "        vertical-align: top;\n",
       "    }\n",
       "\n",
       "    .dataframe thead th {\n",
       "        text-align: right;\n",
       "    }\n",
       "</style>\n",
       "<table border=\"1\" class=\"dataframe\">\n",
       "  <thead>\n",
       "    <tr style=\"text-align: right;\">\n",
       "      <th></th>\n",
       "      <th>Classe</th>\n",
       "      <th>quantidade</th>\n",
       "    </tr>\n",
       "  </thead>\n",
       "  <tbody>\n",
       "    <tr>\n",
       "      <th>0</th>\n",
       "      <td>inteiro</td>\n",
       "      <td>1</td>\n",
       "    </tr>\n",
       "    <tr>\n",
       "      <th>1</th>\n",
       "      <td>operadores</td>\n",
       "      <td>1</td>\n",
       "    </tr>\n",
       "    <tr>\n",
       "      <th>2</th>\n",
       "      <td>palavra reservada</td>\n",
       "      <td>7</td>\n",
       "    </tr>\n",
       "    <tr>\n",
       "      <th>3</th>\n",
       "      <td>pontuação</td>\n",
       "      <td>2</td>\n",
       "    </tr>\n",
       "    <tr>\n",
       "      <th>4</th>\n",
       "      <td>real</td>\n",
       "      <td>1</td>\n",
       "    </tr>\n",
       "    <tr>\n",
       "      <th>5</th>\n",
       "      <td>variável</td>\n",
       "      <td>2</td>\n",
       "    </tr>\n",
       "    <tr>\n",
       "      <th>6</th>\n",
       "      <td>Total linhas</td>\n",
       "      <td>2</td>\n",
       "    </tr>\n",
       "    <tr>\n",
       "      <th>7</th>\n",
       "      <td>Total tokens</td>\n",
       "      <td>14</td>\n",
       "    </tr>\n",
       "  </tbody>\n",
       "</table>\n",
       "</div>"
      ],
      "text/plain": [
       "              Classe  quantidade\n",
       "0            inteiro           1\n",
       "1         operadores           1\n",
       "2  palavra reservada           7\n",
       "3          pontuação           2\n",
       "4               real           1\n",
       "5           variável           2\n",
       "6       Total linhas           2\n",
       "7       Total tokens          14"
      ]
     },
     "metadata": {},
     "execution_count": 29
    }
   ],
   "metadata": {}
  },
  {
   "cell_type": "markdown",
   "source": [
    "## Arquivo de Saída"
   ],
   "metadata": {}
  },
  {
   "cell_type": "code",
   "execution_count": 39,
   "source": [
    "nome_arquivo_saida = f'output/{nome_arquivo.split(\".p\")[0]}.csv'\r\n",
    "df.to_csv(nome_arquivo_saida, index = False)"
   ],
   "outputs": [],
   "metadata": {}
  },
  {
   "cell_type": "code",
   "execution_count": 40,
   "source": [
    "nome_arquivo_saida = f'output/{nome_arquivo.split(\".p\")[0]}_stats.csv'\r\n",
    "df_agrupado.to_csv(nome_arquivo_saida, index = False)"
   ],
   "outputs": [],
   "metadata": {}
  },
  {
   "cell_type": "code",
   "execution_count": 31,
   "source": [
    "print(df.to_markdown(index = False, tablefmt=\"fancy_grid\"))"
   ],
   "outputs": [
    {
     "output_type": "stream",
     "name": "stdout",
     "text": [
      "╒═══════════════════╤═════════╤═════════╤═════════════════════════════════════════════════════════════════╕\n",
      "│ Classe            │ token   │   linha │ quantidade (1ª coluna(qtdade da classe), 2ª qtdade de tokens)   │\n",
      "╞═══════════════════╪═════════╪═════════╪═════════════════════════════════════════════════════════════════╡\n",
      "│ palavra reservada │ begin   │       1 │ 01/01                                                           │\n",
      "├───────────────────┼─────────┼─────────┼─────────────────────────────────────────────────────────────────┤\n",
      "│ palavra reservada │ end     │       1 │ 02/02                                                           │\n",
      "├───────────────────┼─────────┼─────────┼─────────────────────────────────────────────────────────────────┤\n",
      "│ palavra reservada │ if      │       1 │ 03/03                                                           │\n",
      "├───────────────────┼─────────┼─────────┼─────────────────────────────────────────────────────────────────┤\n",
      "│ pontuação         │ ;       │       1 │ 01/04                                                           │\n",
      "├───────────────────┼─────────┼─────────┼─────────────────────────────────────────────────────────────────┤\n",
      "│ pontuação         │ :       │       1 │ 02/05                                                           │\n",
      "├───────────────────┼─────────┼─────────┼─────────────────────────────────────────────────────────────────┤\n",
      "│ operadores        │ :=      │       1 │ 01/06                                                           │\n",
      "├───────────────────┼─────────┼─────────┼─────────────────────────────────────────────────────────────────┤\n",
      "│ palavra reservada │ while   │       2 │ 04/07                                                           │\n",
      "├───────────────────┼─────────┼─────────┼─────────────────────────────────────────────────────────────────┤\n",
      "│ palavra reservada │ for     │       2 │ 05/08                                                           │\n",
      "├───────────────────┼─────────┼─────────┼─────────────────────────────────────────────────────────────────┤\n",
      "│ palavra reservada │ then    │       2 │ 06/09                                                           │\n",
      "├───────────────────┼─────────┼─────────┼─────────────────────────────────────────────────────────────────┤\n",
      "│ inteiro           │ 20      │       2 │ 01/10                                                           │\n",
      "├───────────────────┼─────────┼─────────┼─────────────────────────────────────────────────────────────────┤\n",
      "│ real              │ 5.5     │       2 │ 01/11                                                           │\n",
      "├───────────────────┼─────────┼─────────┼─────────────────────────────────────────────────────────────────┤\n",
      "│ variável          │ x1      │       2 │ 01/12                                                           │\n",
      "├───────────────────┼─────────┼─────────┼─────────────────────────────────────────────────────────────────┤\n",
      "│ variável          │ a       │       2 │ 02/13                                                           │\n",
      "├───────────────────┼─────────┼─────────┼─────────────────────────────────────────────────────────────────┤\n",
      "│ palavra reservada │ program │       2 │ 07/14                                                           │\n",
      "╘═══════════════════╧═════════╧═════════╧═════════════════════════════════════════════════════════════════╛\n"
     ]
    }
   ],
   "metadata": {}
  },
  {
   "cell_type": "code",
   "execution_count": 32,
   "source": [
    "print(df_agrupado.to_markdown(index = False, tablefmt=\"fancy_grid\"))"
   ],
   "outputs": [
    {
     "output_type": "stream",
     "name": "stdout",
     "text": [
      "╒═══════════════════╤══════════════╕\n",
      "│ Classe            │   quantidade │\n",
      "╞═══════════════════╪══════════════╡\n",
      "│ inteiro           │            1 │\n",
      "├───────────────────┼──────────────┤\n",
      "│ operadores        │            1 │\n",
      "├───────────────────┼──────────────┤\n",
      "│ palavra reservada │            7 │\n",
      "├───────────────────┼──────────────┤\n",
      "│ pontuação         │            2 │\n",
      "├───────────────────┼──────────────┤\n",
      "│ real              │            1 │\n",
      "├───────────────────┼──────────────┤\n",
      "│ variável          │            2 │\n",
      "├───────────────────┼──────────────┤\n",
      "│ Total linhas      │            2 │\n",
      "├───────────────────┼──────────────┤\n",
      "│ Total tokens      │           14 │\n",
      "╘═══════════════════╧══════════════╛\n"
     ]
    }
   ],
   "metadata": {}
  },
  {
   "cell_type": "markdown",
   "source": [
    "## Criar arquivo de saída"
   ],
   "metadata": {}
  },
  {
   "cell_type": "code",
   "execution_count": 36,
   "source": [
    "nome_arquivo_saida"
   ],
   "outputs": [
    {
     "output_type": "execute_result",
     "data": {
      "text/plain": [
       "'output/input.p.csv'"
      ]
     },
     "metadata": {},
     "execution_count": 36
    }
   ],
   "metadata": {}
  },
  {
   "cell_type": "code",
   "execution_count": null,
   "source": [],
   "outputs": [],
   "metadata": {}
  }
 ],
 "metadata": {
  "orig_nbformat": 4,
  "language_info": {
   "name": "python",
   "version": "3.8.5",
   "mimetype": "text/x-python",
   "codemirror_mode": {
    "name": "ipython",
    "version": 3
   },
   "pygments_lexer": "ipython3",
   "nbconvert_exporter": "python",
   "file_extension": ".py"
  },
  "kernelspec": {
   "name": "python3",
   "display_name": "Python 3.8.5 64-bit ('base': conda)"
  },
  "interpreter": {
   "hash": "e87665ec0a165f363d8cc3bca4f0bcbed11768be787550cb756e5633f85a0d65"
  }
 },
 "nbformat": 4,
 "nbformat_minor": 2
}